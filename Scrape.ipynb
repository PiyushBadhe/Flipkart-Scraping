{
 "cells": [
  {
   "cell_type": "code",
   "execution_count": 1,
   "metadata": {},
   "outputs": [
    {
     "name": "stdout",
     "output_type": "stream",
     "text": [
      "True\n"
     ]
    }
   ],
   "source": [
    "print(True)"
   ]
  },
  {
   "cell_type": "code",
   "execution_count": 2,
   "metadata": {},
   "outputs": [],
   "source": [
    "import requests as req\n",
    "from bs4 import BeautifulSoup as bsoup\n",
    "import openpyxl as xl"
   ]
  },
  {
   "cell_type": "code",
   "execution_count": 3,
   "metadata": {},
   "outputs": [],
   "source": [
    "url = req.get(\"https://www.flipkart.com/search?q=smartphones&otracker=search&otracker1=search&marketplace=FLIPKART&as-show=on&as=off\")"
   ]
  },
  {
   "cell_type": "code",
   "execution_count": 4,
   "metadata": {},
   "outputs": [
    {
     "data": {
      "text/plain": [
       "200"
      ]
     },
     "execution_count": 4,
     "metadata": {},
     "output_type": "execute_result"
    }
   ],
   "source": [
    "# Checking HTML status code\n",
    "url.status_code"
   ]
  },
  {
   "cell_type": "markdown",
   "metadata": {},
   "source": [
    "Try and Exception if the website is working and appropriate as requests library don't throw an error although the site is inappropriate and executes anyway"
   ]
  },
  {
   "cell_type": "code",
   "execution_count": 5,
   "metadata": {},
   "outputs": [],
   "source": [
    "try:\n",
    "    url = req.get(\"https://www.flipkart.com/search?q=mobiles&as=on&as-show=on&otracker=AS_Query_TrendingAutoSuggest_1_0_na_na_na&otracker1=AS_Query_TrendingAutoSuggest_1_0_na_na_na&as-pos=1&as-type=TRENDING&suggestionId=mobiles&requestId=002e98ac-709f-4472-8676-e3c6e953cf5e\")\n",
    "    \n",
    "    soup = bsoup(url.content, \"html.parser\")\n",
    "#     print(soup)\n",
    "    \n",
    "except Exception as e:\n",
    "    print(e)"
   ]
  },
  {
   "cell_type": "code",
   "execution_count": 6,
   "metadata": {},
   "outputs": [
    {
     "name": "stdout",
     "output_type": "stream",
     "text": [
      "<div class=\"col col-7-12\"><div class=\"_4rR01T\">REDMI Note 10S (Deep Sea Blue, 64 GB)</div><div class=\"gUuXy-\"><span class=\"_1lRcqv\" id=\"productRating_LSTMOBGAHD8GWKMFWFGQXE9RS_MOBGAHD8GWKMFWFG_\"><div class=\"_3LWZlK\">4.4<img class=\"_1wB99o\" src=\"data:image/svg+xml;base64,PHN2ZyB4bWxucz0iaHR0cDovL3d3dy53My5vcmcvMjAwMC9zdmciIHdpZHRoPSIxMyIgaGVpZ2h0PSIxMiI+PHBhdGggZmlsbD0iI0ZGRiIgZD0iTTYuNSA5LjQzOWwtMy42NzQgMi4yMy45NC00LjI2LTMuMjEtMi44ODMgNC4yNTQtLjQwNEw2LjUuMTEybDEuNjkgNC4wMSA0LjI1NC40MDQtMy4yMSAyLjg4Mi45NCA0LjI2eiIvPjwvc3ZnPg==\"/></div></span><span class=\"_2_R_DZ\"><span><span>40,662 Ratings </span><span class=\"_13vcmD\">&amp;</span><span> 2,811 Reviews</span></span></span></div><div class=\"fMghEO\"><ul class=\"_1xgFaf\"><li class=\"rgWa7D\">6 GB RAM | 64 GB ROM | Expandable Upto 512 GB</li><li class=\"rgWa7D\">16.33 cm (6.43 inch) Full HD+ Super AMOLED Display</li><li class=\"rgWa7D\">64MP + 8MP + 2MP + 2MP | 13MP Front Camera</li><li class=\"rgWa7D\">5000 mAh Lithium-Ploymer Battery</li><li class=\"rgWa7D\">Mediatek Helio G95 Processor</li><li class=\"rgWa7D\">1 Year Manufacturer Warranty for Phone and 6 Months Warranty for In the Box Accessories</li></ul></div></div>\n"
     ]
    }
   ],
   "source": [
    "# Find a bin in which all the mobiles and their info is present and find all the relevant tags for each mobile in the bin\n",
    "# Here \"div\", class_=\"_13oc-S\" is present in \"div\", class_ = \"_1YokD2 _3Mn1Gg\"\n",
    "# div is tag and class is an attribute\n",
    "\n",
    "\n",
    "mob_bin = soup.find(\"div\", class_ = \"col col-7-12\")\n",
    "\n",
    "print(mob_bin)     # Diving in mob_bin"
   ]
  },
  {
   "cell_type": "code",
   "execution_count": 7,
   "metadata": {},
   "outputs": [
    {
     "name": "stdout",
     "output_type": "stream",
     "text": [
      "REDMI Note 10S (Deep Sea Blue, 64 GB)\n",
      "4.4\n",
      "6 GB RAM | 64 GB ROM | Expandable Upto 512 GB16.33 cm (6.43 inch) Full HD+ Super AMOLED Display64MP + 8MP + 2MP + 2MP | 13MP Front Camera5000 mAh Lithium-Ploymer BatteryMediatek Helio G95 Processor1 Year Manufacturer Warranty for Phone and 6 Months Warranty for In the Box Accessories\n"
     ]
    }
   ],
   "source": [
    "# Let's now find particular informative tags first\n",
    "\n",
    "for mobile in mob_bin:\n",
    "    handset = mob_bin.find(\"div\", class_=\"_4rR01T\").text\n",
    "    ratings = mob_bin.find(\"div\", class_=\"_3LWZlK\").text\n",
    "    specifications = mob_bin.find(\"ul\", class_=\"_1xgFaf\").text\n",
    "    \n",
    "    print(handset)\n",
    "    print(ratings)\n",
    "    print(specifications)\n",
    "    break"
   ]
  },
  {
   "cell_type": "markdown",
   "metadata": {},
   "source": [
    "- It can be seen from the above, all specifications are scraped successfully but they are succeding and stuck to each other\n",
    "\n",
    "- Meaning, the very starting of the next specification starts where previous one ends"
   ]
  },
  {
   "cell_type": "markdown",
   "metadata": {},
   "source": [
    "So in order to fetch specs one by one, following steps are followed to get specs one by one instead of all\n",
    "\n",
    "- Referring to tag `ul` & `class_=\"_1xgFaf\"`\n",
    "- Fetching all `specs` by `find_all` method providing related parameters i.e. tag = `\"li\"` & `class_=\"rgWa7D\"` (Total 6 `li` tags with same `class_`)\n",
    "- Then from the results of `specs`, with the help of indexing, assigned the first spec to a variable, typecasting to str. Hence finally cleaning is done."
   ]
  },
  {
   "cell_type": "code",
   "execution_count": 8,
   "metadata": {},
   "outputs": [
    {
     "data": {
      "text/plain": [
       "[<li class=\"rgWa7D\">6 GB RAM | 64 GB ROM | Expandable Upto 512 GB</li>,\n",
       " <li class=\"rgWa7D\">16.33 cm (6.43 inch) Full HD+ Super AMOLED Display</li>,\n",
       " <li class=\"rgWa7D\">64MP + 8MP + 2MP + 2MP | 13MP Front Camera</li>,\n",
       " <li class=\"rgWa7D\">5000 mAh Lithium-Ploymer Battery</li>,\n",
       " <li class=\"rgWa7D\">Mediatek Helio G95 Processor</li>,\n",
       " <li class=\"rgWa7D\">1 Year Manufacturer Warranty for Phone and 6 Months Warranty for In the Box Accessories</li>]"
      ]
     },
     "execution_count": 8,
     "metadata": {},
     "output_type": "execute_result"
    }
   ],
   "source": [
    "specs = mob_bin.find(\"ul\", class_=\"_1xgFaf\").find_all(\"li\", class_=\"rgWa7D\")\n",
    "specs"
   ]
  },
  {
   "cell_type": "code",
   "execution_count": 9,
   "metadata": {},
   "outputs": [
    {
     "data": {
      "text/plain": [
       "'6 GB RAM | 64 GB ROM | Expandable Upto 512 GB'"
      ]
     },
     "execution_count": 9,
     "metadata": {},
     "output_type": "execute_result"
    }
   ],
   "source": [
    "# Getting only texts from the specifications\n",
    "\n",
    "txt_only = specs[0].text\n",
    "txt_only"
   ]
  },
  {
   "cell_type": "markdown",
   "metadata": {},
   "source": [
    "### Advanced Extraction of the data"
   ]
  },
  {
   "cell_type": "code",
   "execution_count": 10,
   "metadata": {},
   "outputs": [
    {
     "name": "stdout",
     "output_type": "stream",
     "text": [
      "handset_name:  REDMI Note 10S  \n",
      "color_name:  Deep Sea Blue\n"
     ]
    }
   ],
   "source": [
    "title_details = (handset.split(\"(\"))  # Redmi Note 10S (Deep Sea Blue, 64 GB) splitted from \"(\" opened paranthesis\n",
    "clr = str(title_details[1])   # Typecasting to perform string operations\n",
    "color = clr.replace(\")\", \"\")   # Removing the closing paranthesis \")\"\n",
    "color = color.split(\",\")   # Splitting to get proper handset name and the color name\n",
    "color_name = color[0]\n",
    "handset_name = title_details[0]\n",
    "print(\"handset_name: \", handset_name, \"\\ncolor_name: \", color_name)"
   ]
  },
  {
   "cell_type": "code",
   "execution_count": 11,
   "metadata": {},
   "outputs": [
    {
     "name": "stdout",
     "output_type": "stream",
     "text": [
      "REDMI Note 10S (Deep Sea Blue, 64 GB) \n",
      " 4.4 \n",
      " [('6 GB RAM ', ' 64 GB ROM ', ' Expandable Upto 512 GB')] \n",
      " ['16.33 cm (6.43 inch) Full HD+ Super AMOLED Display'] \n",
      " [('64MP + 8MP + 2MP + 2MP ', ' 13MP Front Camera')] \n",
      " ['5000 mAh Lithium-Ploymer Battery'] \n",
      " ['Mediatek Helio G95 Processor'] \n",
      " ['1 Year Manufacturer Warranty for Phone and 6 Months Warranty for In the Box Accessories']\n"
     ]
    }
   ],
   "source": [
    "# \"|\" character removal from specifications one by one\n",
    "handset = mob_bin.find(\"div\", class_=\"_4rR01T\").text\n",
    "ratings = mob_bin.find(\"div\", class_=\"_3LWZlK\").text\n",
    "ratings = float(ratings)\n",
    "\n",
    "speclist1 = []\n",
    "speclist2 = []\n",
    "speclist3 = []\n",
    "speclist4 = []\n",
    "speclist5 = []\n",
    "speclist6 = []\n",
    "\n",
    "if len(specs) == 6:\n",
    "    one = specs[0].text\n",
    "    two = specs[1].text\n",
    "    three = specs[2].text\n",
    "    four = specs[3].text\n",
    "    five = specs[4].text\n",
    "    six = specs[5].text\n",
    "\n",
    "    if \"|\" in one or \"|\" not in one:\n",
    "        if \"|\" in one:\n",
    "            cleaned1 = one.split(\"|\")\n",
    "            if len(cleaned1) == 4:\n",
    "                speclist1.append((cleaned1[0], cleaned1[1], cleaned1[2], cleaned1[3]))\n",
    "            elif len(cleaned1) == 3:\n",
    "                speclist1.append((cleaned1[0], cleaned1[1], cleaned1[2]))\n",
    "            elif len(cleaned1) == 2:\n",
    "                speclist1.append((cleaned1[0], cleaned1[1]))\n",
    "    \n",
    "        else:\n",
    "            speclist1.append(one)\n",
    "            \n",
    "            \n",
    "    if \"|\" in two or \"|\" not in two:\n",
    "        if \"|\" in two:\n",
    "            cleaned2 = two.split(\"|\")\n",
    "            if len(cleaned2) == 4:\n",
    "                speclist2.append(cleaned2[0], cleaned2[1], cleaned2[2], cleaned2[3])\n",
    "            elif len(cleaned2) == 3:\n",
    "                speclist2.append(cleaned2[0], cleaned2[1], cleaned2[2])\n",
    "            elif len(cleaned2) == 2:\n",
    "                speclist2.append(cleaned2[0], cleaned2[1])\n",
    "                      \n",
    "        else:\n",
    "            speclist2.append(two)\n",
    "            \n",
    "            \n",
    "    if \"|\" in three or \"|\" not in three:\n",
    "        if \"|\" in three:\n",
    "            cleaned3 = three.split(\"|\")\n",
    "            if len(cleaned3) == 4:\n",
    "                speclist3.append((cleaned3[0], cleaned3[1], cleaned3[2], cleaned3[3]))\n",
    "            elif len(cleaned3) == 3:\n",
    "                speclist3.append((cleaned3[0], cleaned3[1], cleaned3[2]))\n",
    "            elif len(cleaned3) == 2:\n",
    "                speclist3.append((cleaned3[0], cleaned3[1]))\n",
    "        else:\n",
    "            speclist3.append(three)\n",
    "            \n",
    "            \n",
    "    if \"|\" in four or \"|\" not in four:\n",
    "        if \"|\" in four:\n",
    "            cleaned4 = four.split(\"|\")\n",
    "            if len(cleaned4) == 4:\n",
    "                speclist4.append((cleaned3[0], cleaned3[1], cleaned3[2], cleaned3[3]))\n",
    "            elif len(cleaned4) == 3:\n",
    "                speclist4.append((cleaned3[0], cleaned3[1], cleaned3[2]))\n",
    "            elif len(cleaned4) == 2:\n",
    "                speclist4.append((cleaned3[0], cleaned3[1]))\n",
    "        else:\n",
    "            speclist4.append(four)\n",
    "            \n",
    "            \n",
    "    if \"|\" in five or \"|\" not in five:\n",
    "        if \"|\" in five:\n",
    "            cleaned5 = five.split(\"|\")\n",
    "            if len(cleaned5) == 4:\n",
    "                speclist5.append((cleaned3[0], cleaned3[1], cleaned3[2], cleaned3[3]))\n",
    "            elif len(cleaned5) == 3:\n",
    "                speclist5.append((cleaned3[0], cleaned3[1], cleaned3[2]))\n",
    "            elif len(cleaned5) == 2:\n",
    "                speclist5.append((cleaned3[0], cleaned3[1]))\n",
    "        else:\n",
    "            speclist5.append(five)\n",
    "            \n",
    "            \n",
    "    if \"|\" in six or \"|\" not in six:\n",
    "        if \"|\" in six:\n",
    "            cleaned6 = six.split(\"|\")\n",
    "            if len(cleaned6) == 4:\n",
    "                speclist6.append((cleaned3[0], cleaned3[1], cleaned3[2], cleaned3[3]))\n",
    "            elif len(cleaned6) == 3:\n",
    "                speclist6.append((cleaned3[0], cleaned3[1], cleaned3[2]))\n",
    "            elif len(cleaned6) == 2:\n",
    "                speclist6.append((cleaned3[0], cleaned3[1]))\n",
    "        else:\n",
    "            speclist6.append(six)\n",
    "\n",
    "            \n",
    "speclist1 = str(speclist1)\n",
    "speclist2 = str(speclist2)\n",
    "speclist3 = str(speclist3)\n",
    "speclist4 = str(speclist4)\n",
    "speclist5 = str(speclist5)\n",
    "speclist6 = str(speclist6)\n",
    "            \n",
    "            \n",
    "print(\n",
    "handset, \"\\n\",\n",
    "ratings, \"\\n\",\n",
    "speclist1, \"\\n\",\n",
    "speclist2, \"\\n\",\n",
    "speclist3, \"\\n\",\n",
    "speclist4, \"\\n\",\n",
    "speclist5, \"\\n\",\n",
    "speclist6)"
   ]
  },
  {
   "cell_type": "code",
   "execution_count": 12,
   "metadata": {},
   "outputs": [
    {
     "name": "stdout",
     "output_type": "stream",
     "text": [
      "Storage:  664512\n",
      "Display:  1633643\n",
      "Cam:  6482213\n",
      "Battery:  5000\n"
     ]
    }
   ],
   "source": [
    "# Separating int and str from speclist using regex library\n",
    "\n",
    "import re\n",
    "\n",
    "my_regex = ['\\d+', '[a-zA-Z]+']\n",
    "\n",
    "separatestrg = [''.join(re.findall(r, speclist1)) for r in my_regex]\n",
    "print(\"Storage: \", separatestrg[0])\n",
    "\n",
    "separatedisp = [''.join(re.findall(r, speclist2)) for r in my_regex]\n",
    "print(\"Display: \", separatedisp[0])\n",
    "\n",
    "separatecam = [''.join(re.findall(r, speclist3)) for r in my_regex]\n",
    "print(\"Cam: \", separatecam[0])\n",
    "\n",
    "separatebatt = [''.join(re.findall(r, speclist4)) for r in my_regex]\n",
    "print(\"Battery: \", separatebatt[0])"
   ]
  },
  {
   "cell_type": "code",
   "execution_count": 16,
   "metadata": {},
   "outputs": [
    {
     "name": "stdout",
     "output_type": "stream",
     "text": [
      "REDMI Note 10S (Deep Sea Blue, 64 GB) \n",
      " Storage Details(GB):      [6, 64, 512] \n",
      " Display Details(cm, in):  [16.33, 6.43] \n",
      " Camera Details(MP):       [64, 8, 2, 2, 13] \n",
      " Battery Details(mAH):      5000\n"
     ]
    }
   ],
   "source": [
    "# Extracting ints from str(speclist_n)\n",
    "\n",
    "RAM = int(separatestrg[0][0])\n",
    "\n",
    "internal = int(separatestrg[0][1:3])\n",
    "\n",
    "expandable = int(separatestrg[0][3:6])\n",
    "\n",
    "display_cm = (float(separatedisp[0][0:4]))/100\n",
    "\n",
    "display_inch = (float(separatedisp[0][4:8]))/100\n",
    "    \n",
    "\n",
    "primary_cam = int(separatecam[0][0:2])\n",
    "secondary_cam = int(separatecam[0][2])\n",
    "additional_cam1 = int(separatecam[0][3])\n",
    "additional_cam2 = int(separatecam[0][4])\n",
    "front_cam = int(separatecam[0][5:])\n",
    "\n",
    "camera = [primary_cam, secondary_cam, additional_cam1, additional_cam2, front_cam]\n",
    "    \n",
    "battery = int(separatebatt[0])\n",
    "storage = [RAM, internal, expandable]\n",
    "display = [display_cm, display_inch]\n",
    "\n",
    "print(handset,\n",
    "      \"\\n\", \"Storage Details(GB):     \", storage,\n",
    "      \"\\n\", \"Display Details(cm, in): \", display,\n",
    "      \"\\n\", \"Camera Details(MP):      \", camera,\n",
    "      \"\\n\",\"Battery Details(mAH):     \", battery)\n"
   ]
  },
  {
   "cell_type": "code",
   "execution_count": 17,
   "metadata": {},
   "outputs": [
    {
     "data": {
      "text/plain": [
       "'Android Phone'"
      ]
     },
     "execution_count": 17,
     "metadata": {},
     "output_type": "execute_result"
    }
   ],
   "source": [
    "def mob_classify():\n",
    "    if \"Processor\" in speclist5:\n",
    "        return \"Android Phone\"\n",
    "    else:\n",
    "        return \"General Phone\"\n",
    "    \n",
    "mob_category = mob_classify()\n",
    "mob_category"
   ]
  },
  {
   "cell_type": "code",
   "execution_count": 18,
   "metadata": {},
   "outputs": [
    {
     "data": {
      "text/plain": [
       "'Mediatek Helio G95'"
      ]
     },
     "execution_count": 18,
     "metadata": {},
     "output_type": "execute_result"
    }
   ],
   "source": [
    "def processor_details():\n",
    "    find_word = (speclist5.index(\"Processor\")) - 1\n",
    "    details = speclist5[0 : find_word]\n",
    "    details = details.replace(\"['\", \"\")\n",
    "    return details\n",
    "processor = processor_details()\n",
    "processor"
   ]
  },
  {
   "cell_type": "code",
   "execution_count": 19,
   "metadata": {},
   "outputs": [
    {
     "name": "stdout",
     "output_type": "stream",
     "text": [
      "₹12,999₹16,99923% off\n",
      "<class 'str'>\n"
     ]
    }
   ],
   "source": [
    "mob_price_details = soup.find(\"div\", class_=\"_25b18c\").text\n",
    "\n",
    "print(mob_price_details)\n",
    "print(type(mob_price_details))"
   ]
  },
  {
   "cell_type": "code",
   "execution_count": 20,
   "metadata": {},
   "outputs": [
    {
     "name": "stdout",
     "output_type": "stream",
     "text": [
      "12999\n"
     ]
    }
   ],
   "source": [
    "mob_price = soup.find(\"div\", class_=\"_30jeq3 _1_WHN1\").text\n",
    "mob_price = mob_price.replace(\"₹\", \"\")\n",
    "mob_price = mob_price.replace(\",\", \"\")\n",
    "mob_price = int(mob_price)\n",
    "print(mob_price)"
   ]
  },
  {
   "cell_type": "code",
   "execution_count": 21,
   "metadata": {},
   "outputs": [
    {
     "name": "stdout",
     "output_type": "stream",
     "text": [
      "16999\n"
     ]
    }
   ],
   "source": [
    "mrp_price = soup.find(\"div\", class_=\"_3I9_wc _27UcVY\").text\n",
    "mrp_price = mrp_price.replace(\"₹\", \"\")\n",
    "mrp_price = mrp_price.replace(\",\", \"\")\n",
    "mrp_price = int(mrp_price)\n",
    "print(mrp_price)"
   ]
  },
  {
   "cell_type": "code",
   "execution_count": 22,
   "metadata": {},
   "outputs": [
    {
     "name": "stdout",
     "output_type": "stream",
     "text": [
      "23% off\n"
     ]
    }
   ],
   "source": [
    "discount_pntage = soup.find(\"div\", class_=\"_3Ay6Sb\").text\n",
    "print(discount_pntage)"
   ]
  },
  {
   "cell_type": "code",
   "execution_count": 23,
   "metadata": {},
   "outputs": [
    {
     "name": "stdout",
     "output_type": "stream",
     "text": [
      "12000\n"
     ]
    }
   ],
   "source": [
    "exchange_discount = soup.find(\"div\", class_=\"_3xFhiH\").find_all(\"div\", class_=\"_2Tpdn3 _18hQoS\")\n",
    "off_on_exc = exchange_discount[1].text\n",
    "off_on_exc = off_on_exc.replace(\"₹\", \"\")\n",
    "off_on_exc = off_on_exc.replace(\",\", \"\")\n",
    "off_on_exc = int(off_on_exc)\n",
    "print(off_on_exc)"
   ]
  },
  {
   "cell_type": "code",
   "execution_count": 28,
   "metadata": {},
   "outputs": [
    {
     "data": {
      "text/plain": [
       "'1 Year Manufacturer Warranty for Phone '"
      ]
     },
     "execution_count": 28,
     "metadata": {},
     "output_type": "execute_result"
    }
   ],
   "source": [
    "warranty = speclist6\n",
    "warranty = warranty.replace(\"['\", \"\")\n",
    "warranty = warranty.replace(\"']\", \"\")\n",
    "warranty_split = warranty.split(\"and\")\n",
    "warranty_handset = warranty_split[0]\n",
    "warranty_accessories = warranty_split[1]\n",
    "warranty_accessories\n",
    "warranty_handset"
   ]
  },
  {
   "cell_type": "code",
   "execution_count": null,
   "metadata": {},
   "outputs": [],
   "source": []
  }
 ],
 "metadata": {
  "interpreter": {
   "hash": "e42634819b8c191a5d07eaf23810ff32516dd8d3875f28ec3e488928fbd3c187"
  },
  "kernelspec": {
   "display_name": "Python 3.8.5 ('base')",
   "language": "python",
   "name": "python3"
  },
  "language_info": {
   "codemirror_mode": {
    "name": "ipython",
    "version": 3
   },
   "file_extension": ".py",
   "mimetype": "text/x-python",
   "name": "python",
   "nbconvert_exporter": "python",
   "pygments_lexer": "ipython3",
   "version": "3.8.5"
  },
  "orig_nbformat": 4
 },
 "nbformat": 4,
 "nbformat_minor": 2
}
