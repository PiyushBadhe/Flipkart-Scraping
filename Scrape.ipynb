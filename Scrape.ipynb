{
 "cells": [
  {
   "cell_type": "code",
   "execution_count": 1,
   "metadata": {},
   "outputs": [
    {
     "name": "stdout",
     "output_type": "stream",
     "text": [
      "True\n"
     ]
    }
   ],
   "source": [
    "print(True)"
   ]
  },
  {
   "cell_type": "code",
   "execution_count": 2,
   "metadata": {},
   "outputs": [],
   "source": [
    "import requests as req\n",
    "from bs4 import BeautifulSoup as bsoup\n",
    "import openpyxl as xl"
   ]
  },
  {
   "cell_type": "code",
   "execution_count": 6,
   "metadata": {},
   "outputs": [],
   "source": [
    "url = req.get(\"https://www.flipkart.com/search?q=smartphones&otracker=search&otracker1=search&marketplace=FLIPKART&as-show=on&as=off\")"
   ]
  },
  {
   "cell_type": "code",
   "execution_count": 7,
   "metadata": {},
   "outputs": [
    {
     "data": {
      "text/plain": [
       "200"
      ]
     },
     "execution_count": 7,
     "metadata": {},
     "output_type": "execute_result"
    }
   ],
   "source": [
    "# Checking HTML status code\n",
    "url.status_code"
   ]
  },
  {
   "cell_type": "markdown",
   "metadata": {},
   "source": [
    "Try and Exception if the website is working and appropriate as requests library don't throw an error although the site is inappropriate and executes anyway"
   ]
  },
  {
   "cell_type": "code",
   "execution_count": 8,
   "metadata": {},
   "outputs": [],
   "source": [
    "try:\n",
    "    url = req.get(\"https://www.flipkart.com/search?q=mobiles&as=on&as-show=on&otracker=AS_Query_TrendingAutoSuggest_1_0_na_na_na&otracker1=AS_Query_TrendingAutoSuggest_1_0_na_na_na&as-pos=1&as-type=TRENDING&suggestionId=mobiles&requestId=002e98ac-709f-4472-8676-e3c6e953cf5e\")\n",
    "    \n",
    "    soup = bsoup(url.content, \"html.parser\")\n",
    "#     print(soup)\n",
    "    \n",
    "except Exception as e:\n",
    "    print(e)"
   ]
  },
  {
   "cell_type": "code",
   "execution_count": 10,
   "metadata": {},
   "outputs": [
    {
     "name": "stdout",
     "output_type": "stream",
     "text": [
      "<div class=\"col col-7-12\"><div class=\"_4rR01T\">REDMI Note 10S (Deep Sea Blue, 64 GB)</div><div class=\"gUuXy-\"><span class=\"_1lRcqv\" id=\"productRating_LSTMOBGAHD8GWKMFWFGQXE9RS_MOBGAHD8GWKMFWFG_\"><div class=\"_3LWZlK\">4.4<img class=\"_1wB99o\" src=\"data:image/svg+xml;base64,PHN2ZyB4bWxucz0iaHR0cDovL3d3dy53My5vcmcvMjAwMC9zdmciIHdpZHRoPSIxMyIgaGVpZ2h0PSIxMiI+PHBhdGggZmlsbD0iI0ZGRiIgZD0iTTYuNSA5LjQzOWwtMy42NzQgMi4yMy45NC00LjI2LTMuMjEtMi44ODMgNC4yNTQtLjQwNEw2LjUuMTEybDEuNjkgNC4wMSA0LjI1NC40MDQtMy4yMSAyLjg4Mi45NCA0LjI2eiIvPjwvc3ZnPg==\"/></div></span><span class=\"_2_R_DZ\"><span><span>40,662 Ratings </span><span class=\"_13vcmD\">&amp;</span><span> 2,811 Reviews</span></span></span></div><div class=\"fMghEO\"><ul class=\"_1xgFaf\"><li class=\"rgWa7D\">6 GB RAM | 64 GB ROM | Expandable Upto 512 GB</li><li class=\"rgWa7D\">16.33 cm (6.43 inch) Full HD+ Super AMOLED Display</li><li class=\"rgWa7D\">64MP + 8MP + 2MP + 2MP | 13MP Front Camera</li><li class=\"rgWa7D\">5000 mAh Lithium-Ploymer Battery</li><li class=\"rgWa7D\">Mediatek Helio G95 Processor</li><li class=\"rgWa7D\">1 Year Manufacturer Warranty for Phone and 6 Months Warranty for In the Box Accessories</li></ul></div></div>\n"
     ]
    }
   ],
   "source": [
    "# Find a bin in which all the mobiles and their info is present and find all the relevant tags for each mobile in the bin\n",
    "# Here \"div\", class_=\"_13oc-S\" is present in \"div\", class_ = \"_1YokD2 _3Mn1Gg\"\n",
    "# div is tag and class is an attribute\n",
    "\n",
    "\n",
    "mob_bin = soup.find(\"div\", class_ = \"col col-7-12\")\n",
    "\n",
    "print(mob_bin)     # Diving in mob_bin"
   ]
  },
  {
   "cell_type": "code",
   "execution_count": 11,
   "metadata": {},
   "outputs": [
    {
     "name": "stdout",
     "output_type": "stream",
     "text": [
      "REDMI Note 10S (Deep Sea Blue, 64 GB)\n",
      "4.4\n",
      "6 GB RAM | 64 GB ROM | Expandable Upto 512 GB16.33 cm (6.43 inch) Full HD+ Super AMOLED Display64MP + 8MP + 2MP + 2MP | 13MP Front Camera5000 mAh Lithium-Ploymer BatteryMediatek Helio G95 Processor1 Year Manufacturer Warranty for Phone and 6 Months Warranty for In the Box Accessories\n"
     ]
    }
   ],
   "source": [
    "# Let's now find particular informative tags first\n",
    "\n",
    "for mobile in mob_bin:\n",
    "    handset = mob_bin.find(\"div\", class_=\"_4rR01T\").text\n",
    "    ratings = mob_bin.find(\"div\", class_=\"_3LWZlK\").text\n",
    "    specifications = mob_bin.find(\"ul\", class_=\"_1xgFaf\").text\n",
    "    \n",
    "    print(handset)\n",
    "    print(ratings)\n",
    "    print(specifications)\n",
    "    break"
   ]
  },
  {
   "cell_type": "markdown",
   "metadata": {},
   "source": [
    "- It can be seen from the above, all specifications are scraped successfully but they are succeding and stuck to each other\n",
    "\n",
    "- Meaning, the very starting of the next specification starts where previous one ends"
   ]
  },
  {
   "cell_type": "markdown",
   "metadata": {},
   "source": [
    "So in order to fetch specs one by one, following steps are followed to get specs one by one instead of all\n",
    "\n",
    "- Referring to tag `ul` & `class_=\"_1xgFaf\"`\n",
    "- Fetching all `specs` by `find_all` method providing related parameters i.e. tag = `\"li\"` & `class_=\"rgWa7D\"` (Total 6 `li` tags with same `class_`)\n",
    "- Then from the results of `specs`, with the help of indexing, assigned the first spec to a variable, typecasting to str. Hence finally cleaning is done."
   ]
  },
  {
   "cell_type": "code",
   "execution_count": 14,
   "metadata": {},
   "outputs": [
    {
     "data": {
      "text/plain": [
       "[<li class=\"rgWa7D\">6 GB RAM | 64 GB ROM | Expandable Upto 512 GB</li>,\n",
       " <li class=\"rgWa7D\">16.33 cm (6.43 inch) Full HD+ Super AMOLED Display</li>,\n",
       " <li class=\"rgWa7D\">64MP + 8MP + 2MP + 2MP | 13MP Front Camera</li>,\n",
       " <li class=\"rgWa7D\">5000 mAh Lithium-Ploymer Battery</li>,\n",
       " <li class=\"rgWa7D\">Mediatek Helio G95 Processor</li>,\n",
       " <li class=\"rgWa7D\">1 Year Manufacturer Warranty for Phone and 6 Months Warranty for In the Box Accessories</li>]"
      ]
     },
     "execution_count": 14,
     "metadata": {},
     "output_type": "execute_result"
    }
   ],
   "source": [
    "specs = mob_bin.find(\"ul\", class_=\"_1xgFaf\").find_all(\"li\", class_=\"rgWa7D\")\n",
    "specs"
   ]
  },
  {
   "cell_type": "code",
   "execution_count": 15,
   "metadata": {},
   "outputs": [
    {
     "data": {
      "text/plain": [
       "'6 GB RAM | 64 GB ROM | Expandable Upto 512 GB'"
      ]
     },
     "execution_count": 15,
     "metadata": {},
     "output_type": "execute_result"
    }
   ],
   "source": [
    "# Getting only texts from the specifications\n",
    "\n",
    "txt_only = specs[0].text\n",
    "txt_only"
   ]
  },
  {
   "cell_type": "code",
   "execution_count": null,
   "metadata": {},
   "outputs": [],
   "source": []
  },
  {
   "cell_type": "code",
   "execution_count": null,
   "metadata": {},
   "outputs": [],
   "source": []
  },
  {
   "cell_type": "code",
   "execution_count": null,
   "metadata": {},
   "outputs": [],
   "source": []
  },
  {
   "cell_type": "code",
   "execution_count": null,
   "metadata": {},
   "outputs": [],
   "source": []
  },
  {
   "cell_type": "code",
   "execution_count": null,
   "metadata": {},
   "outputs": [],
   "source": []
  },
  {
   "cell_type": "code",
   "execution_count": null,
   "metadata": {},
   "outputs": [],
   "source": []
  },
  {
   "cell_type": "code",
   "execution_count": null,
   "metadata": {},
   "outputs": [],
   "source": []
  },
  {
   "cell_type": "code",
   "execution_count": null,
   "metadata": {},
   "outputs": [],
   "source": []
  }
 ],
 "metadata": {
  "interpreter": {
   "hash": "67e0cbc25fa4f5baaacba1240f401bc655b640f8e15cfc935dfee2e63491bdf4"
  },
  "kernelspec": {
   "display_name": "Python 3.10.4 64-bit",
   "language": "python",
   "name": "python3"
  },
  "language_info": {
   "codemirror_mode": {
    "name": "ipython",
    "version": 3
   },
   "file_extension": ".py",
   "mimetype": "text/x-python",
   "name": "python",
   "nbconvert_exporter": "python",
   "pygments_lexer": "ipython3",
   "version": "3.10.4"
  },
  "orig_nbformat": 4
 },
 "nbformat": 4,
 "nbformat_minor": 2
}
